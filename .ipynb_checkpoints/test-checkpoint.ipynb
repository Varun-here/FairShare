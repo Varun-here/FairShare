{
 "cells": [
  {
   "cell_type": "code",
   "execution_count": 9,
   "id": "66d662ee",
   "metadata": {},
   "outputs": [
    {
     "name": "stdout",
     "output_type": "stream",
     "text": [
      "Error: Image not loaded properly.\n"
     ]
    },
    {
     "name": "stderr",
     "output_type": "stream",
     "text": [
      "[ WARN:0@150.738] global loadsave.cpp:248 findDecoder imread_('image.png'): can't open/read file: check file path/integrity\n"
     ]
    }
   ],
   "source": [
    "import cv2 \n",
    "import numpy as np \n",
    "\n",
    "# Morphology \n",
    "kernel = np.ones((5, 5), dtype = np.uint8) \n",
    "\n",
    "original_image = cv2.imread('image.png')\n",
    "\n",
    "if original_image is None:\n",
    "    print(\"Error: Image not loaded properly.\")\n",
    "else:\n",
    "    image = cv2.morphologyEx(original_image, cv2.MORPH_CLOSE, kernel = kernel) \n",
    "\n",
    "    # resize your image according to your test image\n",
    "    image = cv2.resize(image, (int(750 * 0.7), int(1000 * 0.7)))\n",
    "    cv2.imshow(\"Document Scanner\", image) \n",
    "    cv2.waitKey(0)\n",
    "    cv2.destroyAllWindows()"
   ]
  }
 ],
 "metadata": {
  "kernelspec": {
   "display_name": "Python 3 (ipykernel)",
   "language": "python",
   "name": "python3"
  },
  "language_info": {
   "codemirror_mode": {
    "name": "ipython",
    "version": 3
   },
   "file_extension": ".py",
   "mimetype": "text/x-python",
   "name": "python",
   "nbconvert_exporter": "python",
   "pygments_lexer": "ipython3",
   "version": "3.9.16"
  }
 },
 "nbformat": 4,
 "nbformat_minor": 5
}
